{
 "cells": [
  {
   "cell_type": "code",
   "execution_count": 12,
   "id": "af793550-0902-4f12-9f77-83b20983d5df",
   "metadata": {},
   "outputs": [],
   "source": [
    "import sqlite3\n",
    "import pandas as pd \n",
    "import matplotlib.pyplot as plt"
   ]
  },
  {
   "cell_type": "code",
   "execution_count": 15,
   "id": "bc8c5f9c-a2d5-420b-815b-8a91cece32a1",
   "metadata": {},
   "outputs": [],
   "source": [
    "conn = sqlite3.connect(\"sales_data.db\")\n",
    "cursor = conn.cursor()"
   ]
  },
  {
   "cell_type": "code",
   "execution_count": 16,
   "id": "e0a4e841-0a52-4b8b-9de4-91af592bb6ec",
   "metadata": {},
   "outputs": [
    {
     "data": {
      "text/plain": [
       "<sqlite3.Cursor at 0x20df09b6240>"
      ]
     },
     "execution_count": 16,
     "metadata": {},
     "output_type": "execute_result"
    }
   ],
   "source": [
    "cursor.execute(\"\"\"\n",
    "CREATE TABLE IF NOT EXISTS sales (\n",
    "    id INTEGER PRIMARY KEY AUTOINCREMENT,\n",
    "    date TEXT,\n",
    "    product TEXT,\n",
    "    quantity INTEGER,\n",
    "    price REAL\n",
    ")\n",
    "\"\"\")"
   ]
  },
  {
   "cell_type": "code",
   "execution_count": 17,
   "id": "7ba9cf00-4ef5-4e7e-92e3-e7d35cdd1285",
   "metadata": {},
   "outputs": [],
   "source": [
    "sales_data = [\n",
    "    ('2025-04-01', 'Coffee', 10, 2.5),\n",
    "    ('2025-04-01', 'Tea', 5, 1.5),\n",
    "    ('2025-04-02', 'Coffee', 7, 2.5),\n",
    "    ('2025-04-02', 'Sandwich', 3, 5.0),\n",
    "    ('2025-04-03', 'Tea', 8, 1.5),\n",
    "    ('2025-04-03', 'Sandwich', 4, 5.0)\n",
    "]\n",
    "\n",
    "cursor.executemany(\"INSERT INTO sales (date, product, quantity, price) VALUES (?, ?, ?, ?)\", sales_data)\n",
    "conn.commit()\n",
    "conn.close()\n"
   ]
  },
  {
   "cell_type": "code",
   "execution_count": 18,
   "id": "eed7900c-943c-4f21-b04c-1c4ae31e4801",
   "metadata": {},
   "outputs": [],
   "source": [
    "conn = sqlite3.connect(\"sales_data.db\")"
   ]
  },
  {
   "cell_type": "code",
   "execution_count": 19,
   "id": "c56ac2eb-fbe5-4a1d-bb96-c737fdfe8dfa",
   "metadata": {},
   "outputs": [],
   "source": [
    "query = \"\"\"\n",
    "SELECT \n",
    "    product, \n",
    "    SUM(quantity) AS total_qty, \n",
    "    SUM(quantity * price) AS revenue \n",
    "FROM \n",
    "    sales \n",
    "GROUP BY \n",
    "    product\n",
    "\"\"\""
   ]
  },
  {
   "cell_type": "code",
   "execution_count": 20,
   "id": "4128a05d-5b9e-4936-8c55-6918860bfb9e",
   "metadata": {},
   "outputs": [],
   "source": [
    "df = pd.read_sql_query(query, conn)\n",
    "conn.close()"
   ]
  },
  {
   "cell_type": "code",
   "execution_count": 21,
   "id": "f334eb7c-073b-40af-bb14-1ba0704b0d5f",
   "metadata": {},
   "outputs": [
    {
     "name": "stdout",
     "output_type": "stream",
     "text": [
      "Sales Summary:\n",
      "    product  total_qty  revenue\n",
      "0    Coffee         34     85.0\n",
      "1  Sandwich         14     70.0\n",
      "2       Tea         26     39.0\n"
     ]
    }
   ],
   "source": [
    "print(\"Sales Summary:\")\n",
    "print(df)"
   ]
  },
  {
   "cell_type": "code",
   "execution_count": 22,
   "id": "9aebe444-e819-45ca-a31a-ea5995abf08c",
   "metadata": {},
   "outputs": [
    {
     "data": {
      "image/png": "[encoded data removed]",
      "text/plain": [
       "<Figure size 640x480 with 1 Axes>"
      ]
     },
     "metadata": {},
     "output_type": "display_data"
    }
   ],
   "source": [
    "df.plot(kind='bar', x='product', y='revenue', legend=False)\n",
    "plt.title('Revenue by Product')\n",
    "plt.xlabel('Product')\n",
    "plt.ylabel('Revenue')\n",
    "plt.tight_layout()\n",
    "\n",
    "# Optional: Save chart\n",
    "plt.savefig(\"sales_chart.png\")\n",
    "plt.show()"
   ]
  },
  {
   "cell_type": "code",
   "execution_count": null,
   "id": "abac26f6-088d-4eed-b252-9f2c02e24193",
   "metadata": {},
   "outputs": [],
   "source": []
  },
  {
   "cell_type": "code",
   "execution_count": null,
   "id": "3588e0ca-9cfb-40df-8457-82a6e564ff60",
   "metadata": {},
   "outputs": [],
   "source": []
  },
  {
   "cell_type": "code",
   "execution_count": null,
   "id": "f10bcd4e-b1e2-4aec-acfc-8a76f72766b3",
   "metadata": {},
   "outputs": [],
   "source": []
  },
  {
   "cell_type": "code",
   "execution_count": null,
   "id": "96cea267-9523-4e52-a257-0c5b83f4a52c",
   "metadata": {},
   "outputs": [],
   "source": []
  },
  {
   "cell_type": "code",
   "execution_count": null,
   "id": "3d2499de-4765-43e1-91d2-f754ca8623db",
   "metadata": {},
   "outputs": [],
   "source": []
  },
  {
   "cell_type": "code",
   "execution_count": null,
   "id": "96337638-6918-4c25-a1c5-d7027fd2b82f",
   "metadata": {},
   "outputs": [],
   "source": []
  },
  {
   "cell_type": "code",
   "execution_count": null,
   "id": "cbc42149-9b0d-4242-9b5e-7af7876b0546",
   "metadata": {},
   "outputs": [],
   "source": []
  },
  {
   "cell_type": "code",
   "execution_count": null,
   "id": "5fbfdcda-96dc-422d-9966-1ac19bd30a3b",
   "metadata": {},
   "outputs": [],
   "source": []
  }
 ],
 "metadata": {
  "kernelspec": {
   "display_name": "Python 3 (ipykernel)",
   "language": "python",
   "name": "python3"
  },
  "language_info": {
   "codemirror_mode": {
    "name": "ipython",
    "version": 3
   },
   "file_extension": ".py",
   "mimetype": "text/x-python",
   "name": "python",
   "nbconvert_exporter": "python",
   "pygments_lexer": "ipython3",
   "version": "3.11.7"
  }
 },
 "nbformat": 4,
 "nbformat_minor": 5
}
